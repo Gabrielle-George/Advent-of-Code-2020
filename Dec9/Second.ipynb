{
 "cells": [
  {
   "cell_type": "code",
   "execution_count": 3,
   "metadata": {},
   "outputs": [],
   "source": [
    "filename = \"input.txt\"\n",
    "file = open(filename)\n",
    "\n",
    "nums = []\n",
    "line = file.readline().strip()\n",
    "\n",
    "while line:\n",
    "    nums.append(line)\n",
    "    line = file.readline().strip()"
   ]
  },
  {
   "cell_type": "code",
   "execution_count": 4,
   "metadata": {},
   "outputs": [
    {
     "name": "stdout",
     "output_type": "stream",
     "text": [
      "466456641\n"
     ]
    }
   ],
   "source": [
    "window= 25\n",
    "cur = window-1\n",
    "valid = True\n",
    "while valid:\n",
    "    valid = False\n",
    "    cur = cur+1\n",
    "    for i in range(cur-window, cur):\n",
    "        for j in range(cur-window, cur):\n",
    "            #print(\"testing {} against {}\".format(nums[i],nums[j]))\n",
    "            if j != i:\n",
    "                #check to see if they add up to the current\n",
    "                if (int(nums[j]) + int(nums[i]) == int(nums[cur])):\n",
    "                    valid = True\n",
    "    \n",
    "print(nums[cur])\n",
    "\n",
    "        "
   ]
  },
  {
   "cell_type": "code",
   "execution_count": 5,
   "metadata": {},
   "outputs": [
    {
     "data": {
      "text/plain": [
       "611"
      ]
     },
     "execution_count": 5,
     "metadata": {},
     "output_type": "execute_result"
    }
   ],
   "source": [
    "nums.index(\"466456641\")"
   ]
  },
  {
   "cell_type": "code",
   "execution_count": 32,
   "metadata": {},
   "outputs": [
    {
     "name": "stdout",
     "output_type": "stream",
     "text": [
      "466456641\n",
      "found!: cursor 493 going up 510\n"
     ]
    }
   ],
   "source": [
    "desired_num = 466456641\n",
    "found = False\n",
    "nums = [int(i) for i in nums]\n",
    "for i in range(611):\n",
    "    window = 1\n",
    "    cur_sum = nums[i] + nums[i+window]\n",
    "    while (cur_sum <= desired_num) and not found:\n",
    "        if (cur_sum == desired_num):\n",
    "            print(sum(nums[i:window-1]))\n",
    "            found = True\n",
    "        else:\n",
    "            cur_sum = sum(nums[i:window])\n",
    "            window = window+1\n",
    "    if found:\n",
    "       print(\"found!: cursor {} going up {}\".format(i,window-1))\n",
    "       break\n",
    "    "
   ]
  },
  {
   "cell_type": "code",
   "execution_count": null,
   "metadata": {},
   "outputs": [],
   "source": []
  },
  {
   "cell_type": "code",
   "execution_count": 45,
   "metadata": {},
   "outputs": [
    {
     "data": {
      "text/plain": [
       "52858841"
      ]
     },
     "execution_count": 45,
     "metadata": {},
     "output_type": "execute_result"
    }
   ],
   "source": [
    "nums[493] + nums[509]"
   ]
  },
  {
   "cell_type": "code",
   "execution_count": 47,
   "metadata": {},
   "outputs": [
    {
     "data": {
      "text/plain": [
       "55732936"
      ]
     },
     "execution_count": 47,
     "metadata": {},
     "output_type": "execute_result"
    }
   ],
   "source": [
    "min(nums[493:510]) + max(nums[493:510])"
   ]
  },
  {
   "cell_type": "code",
   "execution_count": 43,
   "metadata": {},
   "outputs": [
    {
     "data": {
      "text/plain": [
       "[3, 4, 5, 6]"
      ]
     },
     "execution_count": 43,
     "metadata": {},
     "output_type": "execute_result"
    }
   ],
   "source": [
    "arr = [1,2,3,4,5,6,7,8,9]\n",
    "arr[2:6]"
   ]
  },
  {
   "cell_type": "code",
   "execution_count": null,
   "metadata": {},
   "outputs": [],
   "source": [
    "#You guessed 52858841"
   ]
  }
 ],
 "metadata": {
  "kernelspec": {
   "display_name": "Python 3",
   "language": "python",
   "name": "python3"
  },
  "language_info": {
   "codemirror_mode": {
    "name": "ipython",
    "version": 3
   },
   "file_extension": ".py",
   "mimetype": "text/x-python",
   "name": "python",
   "nbconvert_exporter": "python",
   "pygments_lexer": "ipython3",
   "version": "3.6.5"
  }
 },
 "nbformat": 4,
 "nbformat_minor": 2
}

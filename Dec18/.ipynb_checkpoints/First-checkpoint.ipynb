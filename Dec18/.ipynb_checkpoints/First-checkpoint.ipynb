{
 "cells": [
  {
   "cell_type": "code",
   "execution_count": 3,
   "metadata": {},
   "outputs": [],
   "source": [
    "filename = \"input.txt\"\n",
    "file = open(filename)\n",
    "\n",
    "line = file.readline().strip()\n",
    "\n",
    "problems = []\n",
    "while line:\n",
    "    problems.append(line)\n",
    "    line = file.readline().strip()"
   ]
  },
  {
   "cell_type": "code",
   "execution_count": 14,
   "metadata": {},
   "outputs": [],
   "source": [
    "def multiply(a,b):\n",
    "    return a*b\n",
    "def add(a,b):\n",
    "    return a+b\n",
    "def subtract(a,b):\n",
    "    return a-b\n",
    "def divide(a,b):\n",
    "    return a/b\n",
    "operators = {\"*\":multiply, \"+\":add,\"-\":subtract,\"/\":divide}"
   ]
  },
  {
   "cell_type": "code",
   "execution_count": 6,
   "metadata": {},
   "outputs": [
    {
     "data": {
      "text/plain": [
       "'6 * ((5 * 3 * 2 + 9 * 4) * (8 * 8 + 2 * 3) * 5 * 8) * 2 + (4 + 9 * 5 * 5 + 8) * 4'"
      ]
     },
     "execution_count": 6,
     "metadata": {},
     "output_type": "execute_result"
    }
   ],
   "source": [
    "prac = problems[0]\n",
    "prac"
   ]
  },
  {
   "cell_type": "code",
   "execution_count": 160,
   "metadata": {},
   "outputs": [],
   "source": [
    "def solve_left_to_right(problem):\n",
    "    cur = 0\n",
    "    right = '-'\n",
    "    left = '-'\n",
    "    operator = \"\"\n",
    "    while cur < len(problem):\n",
    "\n",
    "        if problem[cur] in \"+-/*\":\n",
    "            operator = problem[cur]\n",
    "            print(\"assinging operator to {}\".format(operator))\n",
    "            cur = cur+1\n",
    "        elif problem[cur] == \"(\":\n",
    "            print(\"entering paren!\")\n",
    "            paren_cur = cur+1\n",
    "            #copy the innermost part\n",
    "            paren_problem = []\n",
    "            matching_paren = 1\n",
    "            while matching_paren >0:\n",
    "\n",
    "                if problem[paren_cur] ==\"(\":\n",
    "                    print(\"adding parent!\")\n",
    "                    matching_paren = matching_paren+1\n",
    "                if problem[paren_cur] ==')':\n",
    "                    print(\"getting rid of paren!\")\n",
    "                    matching_paren = matching_paren-1\n",
    "                if matching_paren >0:\n",
    "                    paren_problem.append(problem[paren_cur])\n",
    "                paren_cur = paren_cur +1\n",
    "\n",
    "                    \n",
    "            \n",
    "            '''\n",
    "            while paren_cur+1<len(problem) and (problem[paren_cur]!= \")\" or problem[paren_cur+1]== \")\"):\n",
    "                print(\"working  on item {}\".format(paren_cur))\n",
    "                paren_problem.append(problem[paren_cur])\n",
    "                paren_cur = paren_cur +1\n",
    "            '''\n",
    "            print(\"full problem: {}\".format(paren_problem))\n",
    "            paren_soln = solve_left_to_right(paren_problem)\n",
    "            cur = paren_cur+1\n",
    "            #check whether parenl_sln should be left or right\n",
    "            if left == \"-\":\n",
    "                left = paren_soln\n",
    "            else:\n",
    "                right = paren_soln\n",
    "        elif left == '-':\n",
    "            left = problem[cur]\n",
    "            print(\"assigning left to {}\".format(left))\n",
    "            cur = cur+1\n",
    "        elif right =='-':\n",
    "            right = problem[cur]            \n",
    "        if right != '-':\n",
    "\n",
    "            print(\"assigning right to {}\".format(right))\n",
    "            print(\"{} {} {} = {}\".format(left,operator, right,operators[operator](int(left),int(right))))\n",
    "\n",
    "            left = operators[operator](int(left),int(right))\n",
    "\n",
    "            right = '-'\n",
    "            cur = cur+1\n",
    "       \n",
    "        print(cur)\n",
    "    return left\n",
    "        \n",
    "        \n",
    "        \n",
    "        "
   ]
  },
  {
   "cell_type": "code",
   "execution_count": 161,
   "metadata": {},
   "outputs": [
    {
     "name": "stdout",
     "output_type": "stream",
     "text": [
      "assigning left to 2\n",
      "1\n",
      "2\n",
      "entering paren!\n",
      "adding parent!\n",
      "getting rid of paren!\n",
      "adding parent!\n",
      "getting rid of paren!\n",
      "getting rid of paren!\n",
      "full problem: ['(', '3', '+', '4', ')', '*', '(', '2', '+', '4', ')']\n",
      "entering paren!\n",
      "getting rid of paren!\n",
      "full problem: ['3', '+', '4']\n",
      "assigning left to 3\n",
      "1\n",
      "2\n",
      "assigning right to 4\n",
      "3 + 4 = 7\n",
      "3\n",
      "6\n",
      "entering paren!\n",
      "getting rid of paren!\n",
      "full problem: ['2', '+', '4']\n",
      "assigning left to 2\n",
      "1\n",
      "2\n",
      "assigning right to 4\n",
      "2 + 4 = 6\n",
      "3\n",
      "assigning right to 6\n"
     ]
    },
    {
     "ename": "KeyError",
     "evalue": "''",
     "output_type": "error",
     "traceback": [
      "\u001b[0;31m---------------------------------------------------------------------------\u001b[0m",
      "\u001b[0;31mKeyError\u001b[0m                                  Traceback (most recent call last)",
      "\u001b[0;32m<ipython-input-161-49550406bbca>\u001b[0m in \u001b[0;36m<module>\u001b[0;34m()\u001b[0m\n\u001b[0;32m----> 1\u001b[0;31m \u001b[0msolve_left_to_right\u001b[0m\u001b[0;34m(\u001b[0m\u001b[0;34m'2+((3+4)*(2+4))'\u001b[0m\u001b[0;34m)\u001b[0m\u001b[0;34m\u001b[0m\u001b[0m\n\u001b[0m",
      "\u001b[0;32m<ipython-input-160-8b2c949e634c>\u001b[0m in \u001b[0;36msolve_left_to_right\u001b[0;34m(problem)\u001b[0m\n\u001b[1;32m     36\u001b[0m             '''\n\u001b[1;32m     37\u001b[0m             \u001b[0mprint\u001b[0m\u001b[0;34m(\u001b[0m\u001b[0;34m\"full problem: {}\"\u001b[0m\u001b[0;34m.\u001b[0m\u001b[0mformat\u001b[0m\u001b[0;34m(\u001b[0m\u001b[0mparen_problem\u001b[0m\u001b[0;34m)\u001b[0m\u001b[0;34m)\u001b[0m\u001b[0;34m\u001b[0m\u001b[0m\n\u001b[0;32m---> 38\u001b[0;31m             \u001b[0mparen_soln\u001b[0m \u001b[0;34m=\u001b[0m \u001b[0msolve_left_to_right\u001b[0m\u001b[0;34m(\u001b[0m\u001b[0mparen_problem\u001b[0m\u001b[0;34m)\u001b[0m\u001b[0;34m\u001b[0m\u001b[0m\n\u001b[0m\u001b[1;32m     39\u001b[0m             \u001b[0mcur\u001b[0m \u001b[0;34m=\u001b[0m \u001b[0mparen_cur\u001b[0m\u001b[0;34m+\u001b[0m\u001b[0;36m1\u001b[0m\u001b[0;34m\u001b[0m\u001b[0m\n\u001b[1;32m     40\u001b[0m             \u001b[0;31m#check whether parenl_sln should be left or right\u001b[0m\u001b[0;34m\u001b[0m\u001b[0;34m\u001b[0m\u001b[0m\n",
      "\u001b[0;32m<ipython-input-160-8b2c949e634c>\u001b[0m in \u001b[0;36msolve_left_to_right\u001b[0;34m(problem)\u001b[0m\n\u001b[1;32m     52\u001b[0m \u001b[0;34m\u001b[0m\u001b[0m\n\u001b[1;32m     53\u001b[0m             \u001b[0mprint\u001b[0m\u001b[0;34m(\u001b[0m\u001b[0;34m\"assigning right to {}\"\u001b[0m\u001b[0;34m.\u001b[0m\u001b[0mformat\u001b[0m\u001b[0;34m(\u001b[0m\u001b[0mright\u001b[0m\u001b[0;34m)\u001b[0m\u001b[0;34m)\u001b[0m\u001b[0;34m\u001b[0m\u001b[0m\n\u001b[0;32m---> 54\u001b[0;31m             \u001b[0mprint\u001b[0m\u001b[0;34m(\u001b[0m\u001b[0;34m\"{} {} {} = {}\"\u001b[0m\u001b[0;34m.\u001b[0m\u001b[0mformat\u001b[0m\u001b[0;34m(\u001b[0m\u001b[0mleft\u001b[0m\u001b[0;34m,\u001b[0m\u001b[0moperator\u001b[0m\u001b[0;34m,\u001b[0m \u001b[0mright\u001b[0m\u001b[0;34m,\u001b[0m\u001b[0moperators\u001b[0m\u001b[0;34m[\u001b[0m\u001b[0moperator\u001b[0m\u001b[0;34m]\u001b[0m\u001b[0;34m(\u001b[0m\u001b[0mint\u001b[0m\u001b[0;34m(\u001b[0m\u001b[0mleft\u001b[0m\u001b[0;34m)\u001b[0m\u001b[0;34m,\u001b[0m\u001b[0mint\u001b[0m\u001b[0;34m(\u001b[0m\u001b[0mright\u001b[0m\u001b[0;34m)\u001b[0m\u001b[0;34m)\u001b[0m\u001b[0;34m)\u001b[0m\u001b[0;34m)\u001b[0m\u001b[0;34m\u001b[0m\u001b[0m\n\u001b[0m\u001b[1;32m     55\u001b[0m \u001b[0;34m\u001b[0m\u001b[0m\n\u001b[1;32m     56\u001b[0m             \u001b[0mleft\u001b[0m \u001b[0;34m=\u001b[0m \u001b[0moperators\u001b[0m\u001b[0;34m[\u001b[0m\u001b[0moperator\u001b[0m\u001b[0;34m]\u001b[0m\u001b[0;34m(\u001b[0m\u001b[0mint\u001b[0m\u001b[0;34m(\u001b[0m\u001b[0mleft\u001b[0m\u001b[0;34m)\u001b[0m\u001b[0;34m,\u001b[0m\u001b[0mint\u001b[0m\u001b[0;34m(\u001b[0m\u001b[0mright\u001b[0m\u001b[0;34m)\u001b[0m\u001b[0;34m)\u001b[0m\u001b[0;34m\u001b[0m\u001b[0m\n",
      "\u001b[0;31mKeyError\u001b[0m: ''"
     ]
    }
   ],
   "source": [
    "solve_left_to_right('2+((3+4)*(2+4))')\n",
    "\n"
   ]
  },
  {
   "cell_type": "code",
   "execution_count": 143,
   "metadata": {},
   "outputs": [
    {
     "data": {
      "text/plain": [
       "'llo'"
      ]
     },
     "execution_count": 143,
     "metadata": {},
     "output_type": "execute_result"
    }
   ],
   "source": [
    "\"hello\"[2:]"
   ]
  },
  {
   "cell_type": "code",
   "execution_count": 12,
   "metadata": {},
   "outputs": [
    {
     "ename": "SyntaxError",
     "evalue": "invalid syntax (<ipython-input-12-0bc43155de08>, line 1)",
     "output_type": "error",
     "traceback": [
      "\u001b[0;36m  File \u001b[0;32m\"<ipython-input-12-0bc43155de08>\"\u001b[0;36m, line \u001b[0;32m1\u001b[0m\n\u001b[0;31m    1.multiply(2)\u001b[0m\n\u001b[0m             ^\u001b[0m\n\u001b[0;31mSyntaxError\u001b[0m\u001b[0;31m:\u001b[0m invalid syntax\n"
     ]
    }
   ],
   "source": [
    "1.multiply(2)"
   ]
  },
  {
   "cell_type": "code",
   "execution_count": 130,
   "metadata": {},
   "outputs": [
    {
     "ename": "IndexError",
     "evalue": "list index out of range",
     "output_type": "error",
     "traceback": [
      "\u001b[0;31m---------------------------------------------------------------------------\u001b[0m",
      "\u001b[0;31mIndexError\u001b[0m                                Traceback (most recent call last)",
      "\u001b[0;32m<ipython-input-130-508e7d30d540>\u001b[0m in \u001b[0;36m<module>\u001b[0;34m()\u001b[0m\n\u001b[1;32m      1\u001b[0m \u001b[0marr\u001b[0m \u001b[0;34m=\u001b[0m \u001b[0;34m[\u001b[0m\u001b[0;36m1\u001b[0m\u001b[0;34m,\u001b[0m\u001b[0;36m2\u001b[0m\u001b[0;34m,\u001b[0m\u001b[0;36m3\u001b[0m\u001b[0;34m,\u001b[0m\u001b[0;36m4\u001b[0m\u001b[0;34m]\u001b[0m\u001b[0;34m\u001b[0m\u001b[0m\n\u001b[0;32m----> 2\u001b[0;31m \u001b[0;32mwhile\u001b[0m \u001b[0marr\u001b[0m\u001b[0;34m[\u001b[0m\u001b[0;36m4\u001b[0m\u001b[0;34m]\u001b[0m\u001b[0;34m:\u001b[0m\u001b[0;34m\u001b[0m\u001b[0m\n\u001b[0m\u001b[1;32m      3\u001b[0m     \u001b[0mprint\u001b[0m\u001b[0;34m(\u001b[0m\u001b[0;34m\"meow\"\u001b[0m\u001b[0;34m)\u001b[0m\u001b[0;34m\u001b[0m\u001b[0m\n",
      "\u001b[0;31mIndexError\u001b[0m: list index out of range"
     ]
    }
   ],
   "source": [
    "arr = [1,2,3,4]\n",
    "while arr[4]:\n",
    "    print(\"meow\")"
   ]
  },
  {
   "cell_type": "code",
   "execution_count": 74,
   "metadata": {},
   "outputs": [],
   "source": [
    "for i in problems:\n",
    "    if i[0] == \"((\":\n",
    "        print(i)"
   ]
  },
  {
   "cell_type": "code",
   "execution_count": null,
   "metadata": {},
   "outputs": [],
   "source": []
  }
 ],
 "metadata": {
  "kernelspec": {
   "display_name": "Python 3",
   "language": "python",
   "name": "python3"
  },
  "language_info": {
   "codemirror_mode": {
    "name": "ipython",
    "version": 3
   },
   "file_extension": ".py",
   "mimetype": "text/x-python",
   "name": "python",
   "nbconvert_exporter": "python",
   "pygments_lexer": "ipython3",
   "version": "3.6.5"
  }
 },
 "nbformat": 4,
 "nbformat_minor": 2
}

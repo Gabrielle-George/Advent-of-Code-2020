{
 "cells": [
  {
   "cell_type": "code",
   "execution_count": 24,
   "metadata": {},
   "outputs": [],
   "source": [
    "import copy"
   ]
  },
  {
   "cell_type": "code",
   "execution_count": 25,
   "metadata": {},
   "outputs": [],
   "source": [
    "filename = \"input.txt\"\n",
    "file = open(filename)\n",
    "\n",
    "line = file.readline().strip()\n",
    "\n",
    "buffer = \"-\"*(len(line)+2)\n",
    "seats= [[ch for ch in buffer]]\n",
    "while line:\n",
    "        #make the backing array mutable, and add some padding\n",
    "    line = \"-\"+line+\"-\"\n",
    "    seats.append([ch for ch in line])\n",
    "    line = file.readline().strip()\n",
    "\n",
    "seats.append([ch for ch in buffer] )"
   ]
  },
  {
   "cell_type": "code",
   "execution_count": 26,
   "metadata": {},
   "outputs": [],
   "source": [
    "def check_adjacent_seats(seati, seatj, seats):\n",
    "    counter = 0\n",
    "    for i in [-1,0,1]:\n",
    "        for j in [-1,0,1]:\n",
    "            if not (j == i and i ==0):\n",
    "                view_seati = seati+i\n",
    "                view_seatj = seatj +j\n",
    "                while not seats[view_seati][view_seatj] in \"#L-\":\n",
    "                    view_seati = view_seati+i\n",
    "                    view_seatj = view_seatj +j\n",
    "                if (seats[view_seati][view_seatj] == \"#\"):\n",
    "                    counter= counter+1\n",
    "    return counter\n"
   ]
  },
  {
   "cell_type": "code",
   "execution_count": 27,
   "metadata": {},
   "outputs": [],
   "source": [
    "seats2 = copy.deepcopy(seats)\n",
    "counter = 0\n",
    "for i in range(len(seats2)):\n",
    "    for j in range(len(seats2[i])):\n",
    "        if seats2[i][j] == 'L':\n",
    "            seats2[i][j] = '#'\n",
    "            counter = counter+1\n"
   ]
  },
  {
   "cell_type": "code",
   "execution_count": 28,
   "metadata": {},
   "outputs": [
    {
     "name": "stdout",
     "output_type": "stream",
     "text": [
      "1\n",
      "2\n",
      "3\n",
      "4\n",
      "5\n",
      "6\n",
      "7\n",
      "8\n",
      "9\n",
      "10\n",
      "11\n",
      "12\n",
      "13\n",
      "14\n",
      "15\n",
      "16\n",
      "17\n",
      "18\n",
      "19\n",
      "20\n",
      "21\n",
      "22\n",
      "23\n",
      "24\n",
      "25\n",
      "26\n",
      "27\n",
      "28\n",
      "29\n",
      "30\n",
      "31\n",
      "32\n",
      "33\n",
      "34\n",
      "35\n",
      "36\n",
      "37\n",
      "38\n",
      "39\n",
      "40\n",
      "41\n",
      "42\n",
      "43\n",
      "44\n",
      "45\n",
      "46\n",
      "47\n",
      "48\n",
      "49\n",
      "50\n",
      "51\n",
      "52\n",
      "53\n",
      "54\n",
      "55\n",
      "56\n",
      "57\n",
      "58\n",
      "59\n",
      "60\n",
      "61\n",
      "62\n",
      "63\n",
      "64\n",
      "65\n",
      "66\n",
      "67\n",
      "68\n",
      "69\n",
      "70\n",
      "71\n",
      "72\n",
      "73\n",
      "74\n",
      "75\n",
      "76\n",
      "77\n",
      "78\n",
      "79\n",
      "80\n",
      "81\n",
      "82\n",
      "83\n",
      "84\n",
      "85\n",
      "86\n"
     ]
    }
   ],
   "source": [
    "prev = copy.deepcopy(seats)\n",
    "cur = copy.deepcopy(seats2)\n",
    "counter = 0\n",
    "while prev != cur:\n",
    "    counter = counter +1\n",
    "    print(counter)\n",
    "    prev = copy.deepcopy(cur)\n",
    "    for i in range(len(seats)):\n",
    "        for j in range(len(seats[i])):\n",
    "            if cur[i][j] == \"L\":\n",
    "                adj = check_adjacent_seats(i,j,prev)\n",
    "                if adj == 0:\n",
    "                    cur[i][j] = \"#\"\n",
    "            if cur[i][j] == \"#\":\n",
    "                adj = check_adjacent_seats(i,j,prev)\n",
    "                if adj >4:\n",
    "                    cur[i][j] = \"L\"\n",
    "\n",
    "\n",
    "        "
   ]
  },
  {
   "cell_type": "code",
   "execution_count": 29,
   "metadata": {},
   "outputs": [
    {
     "name": "stdout",
     "output_type": "stream",
     "text": [
      "2032\n"
     ]
    }
   ],
   "source": [
    "counter = 0\n",
    "for i in prev:\n",
    "    counter = counter + i.count(\"#\")\n",
    "print(counter)"
   ]
  },
  {
   "cell_type": "code",
   "execution_count": 32,
   "metadata": {},
   "outputs": [
    {
     "data": {
      "text/plain": [
       "83"
      ]
     },
     "execution_count": 32,
     "metadata": {},
     "output_type": "execute_result"
    }
   ],
   "source": [
    "seats[1].count(\"L\")"
   ]
  },
  {
   "cell_type": "code",
   "execution_count": 4,
   "metadata": {},
   "outputs": [
    {
     "data": {
      "text/plain": [
       "False"
      ]
     },
     "execution_count": 4,
     "metadata": {},
     "output_type": "execute_result"
    }
   ],
   "source": [
    "\"l\" in \"#L-\""
   ]
  },
  {
   "cell_type": "code",
   "execution_count": null,
   "metadata": {},
   "outputs": [],
   "source": []
  }
 ],
 "metadata": {
  "kernelspec": {
   "display_name": "Python 3",
   "language": "python",
   "name": "python3"
  },
  "language_info": {
   "codemirror_mode": {
    "name": "ipython",
    "version": 3
   },
   "file_extension": ".py",
   "mimetype": "text/x-python",
   "name": "python",
   "nbconvert_exporter": "python",
   "pygments_lexer": "ipython3",
   "version": "3.6.5"
  }
 },
 "nbformat": 4,
 "nbformat_minor": 2
}

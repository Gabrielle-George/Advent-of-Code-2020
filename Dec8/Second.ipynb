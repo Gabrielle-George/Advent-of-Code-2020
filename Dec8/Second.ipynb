{
 "cells": [
  {
   "cell_type": "code",
   "execution_count": 25,
   "metadata": {},
   "outputs": [],
   "source": [
    "filename = \"input.txt\"\n",
    "file = open(filename)\n",
    "\n",
    "true_ops = []\n",
    "line = file.readline().replace('\\n','')\n",
    "while line:\n",
    "    true_ops.append(line)\n",
    "    line = file.readline().replace('\\n',\"\")\n",
    "    "
   ]
  },
  {
   "cell_type": "code",
   "execution_count": 37,
   "metadata": {},
   "outputs": [
    {
     "name": "stdout",
     "output_type": "stream",
     "text": [
      "Found it at SP 297\n",
      "accum is 1036\n"
     ]
    }
   ],
   "source": [
    "final = 0\n",
    "for i in range(605):\n",
    "    op, offset = true_ops[i].split()\n",
    "    ops = true_ops.copy()\n",
    "\n",
    "    if (op == \"nop\") or (op == \"jmp\"):\n",
    "        op = \"nop\" if op==\"jmp\" else \"jmp\"\n",
    "        \n",
    "        ops[i] = op + \" \" + offset\n",
    "        visited = []\n",
    "        SP = 0\n",
    "        accum = 0\n",
    "        while SP not in visited and SP < len(ops):\n",
    "            op, offset = ops[SP].split()\n",
    "            visited.append(SP)\n",
    "            if op == \"acc\":\n",
    "                accum = accum + int(offset)\n",
    "                SP = SP+1\n",
    "            elif op == \"nop\":\n",
    "                SP = SP+1\n",
    "            elif op == \"jmp\":\n",
    "                SP = SP + int(offset)\n",
    "\n",
    "        if SP>= len(ops):\n",
    "            final = i\n",
    "            print(\"Found it at SP {}\".format(i))\n",
    "            print(\"accum is {}\".format(accum))\n",
    "\n",
    "\n"
   ]
  },
  {
   "cell_type": "code",
   "execution_count": 36,
   "metadata": {},
   "outputs": [
    {
     "data": {
      "text/plain": [
       "297"
      ]
     },
     "execution_count": 36,
     "metadata": {},
     "output_type": "execute_result"
    }
   ],
   "source": [
    "final"
   ]
  },
  {
   "cell_type": "code",
   "execution_count": 9,
   "metadata": {},
   "outputs": [],
   "source": []
  },
  {
   "cell_type": "code",
   "execution_count": 10,
   "metadata": {},
   "outputs": [
    {
     "data": {
      "text/plain": [
       "'jmp'"
      ]
     },
     "execution_count": 10,
     "metadata": {},
     "output_type": "execute_result"
    }
   ],
   "source": [
    "op"
   ]
  },
  {
   "cell_type": "code",
   "execution_count": null,
   "metadata": {},
   "outputs": [],
   "source": []
  }
 ],
 "metadata": {
  "kernelspec": {
   "display_name": "Python 3",
   "language": "python",
   "name": "python3"
  },
  "language_info": {
   "codemirror_mode": {
    "name": "ipython",
    "version": 3
   },
   "file_extension": ".py",
   "mimetype": "text/x-python",
   "name": "python",
   "nbconvert_exporter": "python",
   "pygments_lexer": "ipython3",
   "version": "3.6.5"
  }
 },
 "nbformat": 4,
 "nbformat_minor": 2
}

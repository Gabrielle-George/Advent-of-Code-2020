{
 "cells": [
  {
   "cell_type": "code",
   "execution_count": 1,
   "metadata": {},
   "outputs": [],
   "source": [
    "filename = \"input.txt\"\n",
    "file = open(filename)\n",
    "line = file.readline()\n",
    "tickets = []\n",
    "while line:\n",
    "    tickets.append(line.replace(\"\\n\",\"\"))\n",
    "    line = file.readline()\n",
    "    "
   ]
  },
  {
   "cell_type": "code",
   "execution_count": 6,
   "metadata": {},
   "outputs": [
    {
     "name": "stdout",
     "output_type": "stream",
     "text": [
      "901.0\n"
     ]
    }
   ],
   "source": [
    "cur_largest = 0\n",
    "for ticket in tickets:\n",
    "    row = ticket[:7]\n",
    "    col = ticket[7:]\n",
    "    cur_half = 64\n",
    "    row_num = 0\n",
    "    for i in row:\n",
    "        row_num = row_num +cur_half*(i==\"B\")\n",
    "        cur_half = cur_half/2\n",
    "    cur_half = 4\n",
    "    col_num = 0\n",
    "    for i in col:\n",
    "        col_num = col_num + cur_half*(i==\"R\")\n",
    "        cur_half = cur_half/2\n",
    "\n",
    "    cur_largest = max(cur_largest, row_num*8 + col_num)\n",
    "print(cur_largest)\n",
    "    \n",
    "        "
   ]
  },
  {
   "cell_type": "code",
   "execution_count": 5,
   "metadata": {},
   "outputs": [
    {
     "name": "stdout",
     "output_type": "stream",
     "text": [
      "row 70.0 col 7.0\n"
     ]
    }
   ],
   "source": []
  },
  {
   "cell_type": "code",
   "execution_count": 22,
   "metadata": {},
   "outputs": [
    {
     "data": {
      "text/plain": [
       "'BRLL'"
      ]
     },
     "execution_count": 22,
     "metadata": {},
     "output_type": "execute_result"
    }
   ],
   "source": [
    "rows[0][6:]"
   ]
  },
  {
   "cell_type": "code",
   "execution_count": null,
   "metadata": {},
   "outputs": [],
   "source": []
  }
 ],
 "metadata": {
  "kernelspec": {
   "display_name": "Python 3",
   "language": "python",
   "name": "python3"
  },
  "language_info": {
   "codemirror_mode": {
    "name": "ipython",
    "version": 3
   },
   "file_extension": ".py",
   "mimetype": "text/x-python",
   "name": "python",
   "nbconvert_exporter": "python",
   "pygments_lexer": "ipython3",
   "version": "3.6.5"
  }
 },
 "nbformat": 4,
 "nbformat_minor": 2
}
